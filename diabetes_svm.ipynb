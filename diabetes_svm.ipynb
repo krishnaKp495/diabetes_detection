{
 "cells": [
  {
   "cell_type": "code",
   "execution_count": null,
   "id": "c110a555-428b-47df-8f8c-88264ee2b492",
   "metadata": {},
   "outputs": [],
   "source": [
    "# machine learning model for detecting diabetes"
   ]
  },
  {
   "cell_type": "code",
   "execution_count": null,
   "id": "c1cdfaf6-e31f-4705-bb7e-8df78d9a6a25",
   "metadata": {},
   "outputs": [],
   "source": [
    "import numpy as np\n",
    "import pandas as pd\n",
    "from sklearn.preprocessing import StandardScaler\n",
    "from sklearn.model_selection import train_test_split\n",
    "from sklearn import svm\n",
    "from sklearn.metrics import accuracy_score"
   ]
  },
  {
   "cell_type": "code",
   "execution_count": null,
   "id": "15aaaff0-a48b-42f2-a0c0-7cdd1cba28ee",
   "metadata": {},
   "outputs": [],
   "source": [
    "\n",
    "df = pd.read_csv(\"diabetes.csv\")\n",
    "print(df.head(2))"
   ]
  },
  {
   "cell_type": "code",
   "execution_count": null,
   "id": "b28ac9f6-536c-4bc3-bdb8-ae92f020e112",
   "metadata": {},
   "outputs": [],
   "source": [
    "#chechking the rows and columns\n",
    "\n",
    "df.shape"
   ]
  },
  {
   "cell_type": "code",
   "execution_count": null,
   "id": "8fe21558-dbba-45be-b7fa-7214ff669408",
   "metadata": {},
   "outputs": [],
   "source": [
    "# checking different statistics\n",
    "\n",
    "df.describe()"
   ]
  },
  {
   "cell_type": "code",
   "execution_count": null,
   "id": "8a5735e9-8c25-498d-a8eb-34d4cc6aa555",
   "metadata": {},
   "outputs": [],
   "source": [
    "# checking the number of patient with and without diabetes\n",
    "\n",
    "df['Outcome'].value_counts()"
   ]
  },
  {
   "cell_type": "code",
   "execution_count": null,
   "id": "12550eb7-f6ba-419d-aa2b-c975d878ce44",
   "metadata": {},
   "outputs": [],
   "source": [
    "# checking the mean values of each \n",
    "\n",
    "df_av = df.groupby('Outcome').mean()\n",
    "print(df_av)"
   ]
  },
  {
   "cell_type": "code",
   "execution_count": null,
   "id": "a64193bb-1465-4d03-84b5-dbbf51683d70",
   "metadata": {},
   "outputs": [],
   "source": [
    "# drop the outcome column and save the outcome & other columns seperately as x and y\n",
    "\n",
    "x = df.drop(columns = 'Outcome', axis = 1)\n",
    "y = df['Outcome']"
   ]
  },
  {
   "cell_type": "code",
   "execution_count": null,
   "id": "184b5728-7183-4726-b89c-508f637fc425",
   "metadata": {},
   "outputs": [],
   "source": [
    "print(x)"
   ]
  },
  {
   "cell_type": "code",
   "execution_count": null,
   "id": "2b91385b-0841-49dc-8297-86acfba85eb6",
   "metadata": {},
   "outputs": [],
   "source": [
    "print(y)"
   ]
  },
  {
   "cell_type": "code",
   "execution_count": null,
   "id": "bcf82f17-e5aa-449a-ad9a-798ab74d6936",
   "metadata": {},
   "outputs": [],
   "source": [
    "# checking if any data is missing\n",
    "\n",
    "df.isnull().values.any()"
   ]
  },
  {
   "cell_type": "code",
   "execution_count": null,
   "id": "c7bb70e9-cdfe-420e-aff2-ebf499653dd4",
   "metadata": {},
   "outputs": [],
   "source": [
    "# data standardization"
   ]
  },
  {
   "cell_type": "code",
   "execution_count": null,
   "id": "6f56b2c4-8af1-44dc-a5bd-c1717cfc8f3c",
   "metadata": {},
   "outputs": [],
   "source": [
    "scaler = StandardScaler()"
   ]
  },
  {
   "cell_type": "code",
   "execution_count": null,
   "id": "9172a740-734d-40a3-a4c7-cfa7b3abfc57",
   "metadata": {},
   "outputs": [],
   "source": [
    "scaler.fit(x)"
   ]
  },
  {
   "cell_type": "code",
   "execution_count": null,
   "id": "c24597aa-d5a9-4c7a-8866-d8c2c03f6188",
   "metadata": {},
   "outputs": [],
   "source": [
    "standard_data = scaler.transform(x)     # this can be done together with fit using fit_transform\n",
    "\n",
    "print(standard_data)"
   ]
  },
  {
   "cell_type": "code",
   "execution_count": null,
   "id": "f47475b8-fc6f-45e4-95aa-c7575eeb12e7",
   "metadata": {},
   "outputs": [],
   "source": [
    "x = standard_data      # standardized data again stored in x\n",
    "y = df['Outcome']"
   ]
  },
  {
   "cell_type": "code",
   "execution_count": null,
   "id": "bd933ba2-3acf-45ad-bce1-4e5fa1ce6dc9",
   "metadata": {},
   "outputs": [],
   "source": [
    "# Train, test, split"
   ]
  },
  {
   "cell_type": "code",
   "execution_count": null,
   "id": "af4c6a1d-7fbb-48c6-9216-ef391b95dab2",
   "metadata": {},
   "outputs": [],
   "source": [
    "# test size means fraction of test\n",
    "# stratify ensures that for y i.e the outcome both 0 and 1 occur in equal proportion in both test and train\n",
    "# random state to ensure reproducibilty\n",
    "\n",
    "x_train, x_test, y_train, y_test = train_test_split( x, y, test_size = 0.2, stratify = y, random_state = 2)"
   ]
  },
  {
   "cell_type": "code",
   "execution_count": null,
   "id": "168ada20-1324-496f-9133-1f3d32eae78a",
   "metadata": {},
   "outputs": [],
   "source": [
    "print(x.shape, x_train.shape, x_test.shape)"
   ]
  },
  {
   "cell_type": "code",
   "execution_count": null,
   "id": "42bb3dba-d0cc-461c-9daf-1c63d202ce35",
   "metadata": {},
   "outputs": [],
   "source": [
    "# Training the model"
   ]
  },
  {
   "cell_type": "code",
   "execution_count": null,
   "id": "c280756e-849d-4a0c-91bb-096716795b31",
   "metadata": {},
   "outputs": [],
   "source": [
    "classifier = svm.SVC(kernel= 'linear')"
   ]
  },
  {
   "cell_type": "code",
   "execution_count": null,
   "id": "4e664c15-2e7b-4149-bfcd-b1475b439adb",
   "metadata": {},
   "outputs": [],
   "source": [
    "classifier.fit(x_train, y_train)"
   ]
  },
  {
   "cell_type": "code",
   "execution_count": null,
   "id": "b39ac55a-11e2-4d29-860d-6a7eb71a24d2",
   "metadata": {},
   "outputs": [],
   "source": [
    "# Evaluation of model"
   ]
  },
  {
   "cell_type": "code",
   "execution_count": null,
   "id": "f3861fa7-b25b-4eb5-b591-2dd4b0f5df85",
   "metadata": {},
   "outputs": [],
   "source": [
    "# accuracy score on the training data\n",
    "\n",
    "x_train_prediction = classifier.predict(x_train)\n",
    "training_data_accuracy = accuracy_score(x_train_prediction, y_train)"
   ]
  },
  {
   "cell_type": "code",
   "execution_count": null,
   "id": "1f4e3877-1d76-4731-86d4-554fdc9d04d2",
   "metadata": {},
   "outputs": [],
   "source": [
    "print('Accuracy score of the training data:', training_data_accuracy )"
   ]
  },
  {
   "cell_type": "code",
   "execution_count": null,
   "id": "0c08cfc4-bbfe-4749-a2ff-06cc836a2ada",
   "metadata": {},
   "outputs": [],
   "source": [
    "# accuracy score on the test data\n",
    "\n",
    "x_test_predict = classifier.predict(x_test)\n",
    "test_data_accuracy = accuracy_score(x_test_predict, y_test)\n",
    "print('Accuracy score of the test data:',test_data_accuracy)"
   ]
  },
  {
   "cell_type": "code",
   "execution_count": null,
   "id": "48c5ff78-e806-475b-8e7e-5af95dccd0c0",
   "metadata": {},
   "outputs": [],
   "source": [
    "# Making a predictive system"
   ]
  },
  {
   "cell_type": "code",
   "execution_count": null,
   "id": "e0374e81-e188-48c9-a02f-65efc4c2fbf6",
   "metadata": {},
   "outputs": [],
   "source": [
    "input_data = (4,110,92,0,0,37.6,0.191,30)\n",
    "\n",
    "# changing the input data to numpy array\n",
    "\n",
    "input_data_as_numpy = np.asarray(input_data)\n",
    "\n",
    "# reshape the array as we are predicting for one instance\n",
    "\n",
    "input_data_reshaped = input_data_as_numpy.reshape(1,-1)\n",
    "\n",
    "# standardize the array\n",
    "\n",
    "std_data = scaler.transform(input_data_reshaped)\n",
    "print(std_data)"
   ]
  },
  {
   "cell_type": "code",
   "execution_count": null,
   "id": "bf6d16ef-9f06-4162-8df9-8daa62decaff",
   "metadata": {},
   "outputs": [],
   "source": [
    "prediction = classifier.predict(std_data)\n",
    "print(prediction)\n",
    "\n",
    "if (prediction[0] == 0):\n",
    "    print(\" the person is not diabetic\")\n",
    "else:\n",
    "    print(\"the person is diabetic\")"
   ]
  },
  {
   "cell_type": "code",
   "execution_count": null,
   "id": "8ca94c18-54d0-4baf-b3c5-aa2393900a34",
   "metadata": {},
   "outputs": [],
   "source": [
    "print(type(prediction))"
   ]
  },
  {
   "cell_type": "code",
   "execution_count": null,
   "id": "1b98025f-6a4e-4a50-a020-fb8005f41337",
   "metadata": {},
   "outputs": [],
   "source": []
  }
 ],
 "metadata": {
  "kernelspec": {
   "display_name": "Python 3 (ipykernel)",
   "language": "python",
   "name": "python3"
  },
  "language_info": {
   "codemirror_mode": {
    "name": "ipython",
    "version": 3
   },
   "file_extension": ".py",
   "mimetype": "text/x-python",
   "name": "python",
   "nbconvert_exporter": "python",
   "pygments_lexer": "ipython3",
   "version": "3.12.3"
  }
 },
 "nbformat": 4,
 "nbformat_minor": 5
}
